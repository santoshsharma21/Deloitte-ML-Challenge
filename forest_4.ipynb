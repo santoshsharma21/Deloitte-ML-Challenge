{
 "cells": [
  {
   "cell_type": "code",
   "execution_count": 1,
   "metadata": {},
   "outputs": [],
   "source": [
    "# import libraries\n",
    "import warnings\n",
    "warnings.filterwarnings('ignore')\n",
    "\n",
    "import pandas as pd\n",
    "import numpy as np\n",
    "from tqdm import tqdm\n",
    "\n",
    "#\n",
    "from sklearn.ensemble import RandomForestClassifier\n",
    "from sklearn.preprocessing import LabelEncoder,OrdinalEncoder\n",
    "from sklearn.model_selection import StratifiedKFold, train_test_split\n",
    "from sklearn.metrics import log_loss"
   ]
  },
  {
   "cell_type": "code",
   "execution_count": 38,
   "metadata": {},
   "outputs": [],
   "source": [
    "# mean encoding\n",
    "def target_mean_encoding(train, test, target, cols):\n",
    "    train_copy = train.copy()\n",
    "    train_copy['target'] = target\n",
    "    kf = StratifiedKFold(n_splits = 5, shuffle = True, random_state = 2021)\n",
    "    # loop\n",
    "    for train_index, val_index in tqdm(kf.split(train, target)):\n",
    "        train_x, val_x = train.iloc[train_index,:], train.iloc[val_index,:]\n",
    "        train_y, val_y = target[train_index], target[val_index]\n",
    "        train_x['target'] = train_y\n",
    "\n",
    "        for col in cols:\n",
    "            # calculate stats\n",
    "            mean = train_x.groupby(col).target.mean()\n",
    "            # mapping\n",
    "            train.loc[val_index, col+'_target_encoded'] = val_x[col].map(mean)\n",
    "            \n",
    "    # for test set\n",
    "    for col in cols:\n",
    "        test[col +'_target_encoded'] = test[col].map(train_copy.groupby(col).target.mean())\n",
    "    \n",
    "    return train, test\n",
    "\n",
    "# function for emi\n",
    "def get_emi(p,r,n):\n",
    "    e = ( p*r* ( (1+r)**n) ) / ( ((1+r)**n)-1 )\n",
    "    return e"
   ]
  },
  {
   "cell_type": "code",
   "execution_count": 39,
   "metadata": {},
   "outputs": [
    {
     "name": "stdout",
     "output_type": "stream",
     "text": [
      "Train shape (67463, 33)\n",
      "Test shape (28913, 33)\n"
     ]
    }
   ],
   "source": [
    "# import data\n",
    "train = pd.read_csv('train.csv')\n",
    "test = pd.read_csv('test.csv')\n",
    "\n",
    "#cols_to_drop = ['ID', 'Loan Status', 'Payment Plan', 'Accounts Delinquent','Term', \n",
    "                #'Delinquency - two years', 'Grade']\n",
    "xtrain = train.drop(['ID', 'Loan Status'], axis = 1)\n",
    "xtest = test.drop(['ID', 'Loan Status'], axis = 1)\n",
    "target = train['Loan Status'].values\n",
    "\n",
    "print('Train shape', xtrain.shape)\n",
    "print('Test shape', xtest.shape)"
   ]
  },
  {
   "cell_type": "code",
   "execution_count": 40,
   "metadata": {},
   "outputs": [],
   "source": [
    "# open_acc by total_acc\n",
    "xtrain['credit_line_ratio'] = xtrain['Open Account'].values / xtrain['Total Accounts'].values\n",
    "xtest['credit_line_ratio'] = xtest['Open Account'].values / xtest['Total Accounts'].values"
   ]
  },
  {
   "cell_type": "code",
   "execution_count": 41,
   "metadata": {},
   "outputs": [],
   "source": [
    "# loan amt by total curent balance\n",
    "xtrain['balance_inc'] = xtrain['Loan Amount'].values / xtrain['Total Current Balance'].values\n",
    "xtest['balance_inc'] = xtest['Loan Amount'].values / xtest['Total Current Balance'].values"
   ]
  },
  {
   "cell_type": "code",
   "execution_count": 42,
   "metadata": {},
   "outputs": [],
   "source": [
    "# get emi\n",
    "train_emi = get_emi(xtrain['Loan Amount'].values,xtrain['Interest Rate'].values/12/100, xtrain['Term'].values)\n",
    "test_emi = get_emi(xtest['Loan Amount'].values,xtest['Interest Rate'].values/12/100, xtest['Term'].values)\n",
    "\n",
    "# emi by loan amount\n",
    "xtrain['inst_loan_ratio'] = train_emi / xtrain['Loan Amount'].values\n",
    "xtest['inst_loan_ratio'] = test_emi / xtest['Loan Amount'].values"
   ]
  },
  {
   "cell_type": "code",
   "execution_count": 43,
   "metadata": {},
   "outputs": [],
   "source": [
    "# emp duration in years\n",
    "xtrain['emp_dur_in_years'] = [np.int((i/365)/12) for i in xtrain['Home Ownership']]\n",
    "xtest['emp_dur_in_years'] = [np.int((i/365)/12) for i in xtest['Home Ownership']]\n",
    "\n",
    "# cap value\n",
    "tr_idx = xtrain[xtrain.emp_dur_in_years > 50].index\n",
    "te_idx = xtest[xtest.emp_dur_in_years > 50].index\n",
    "xtrain.loc[tr_idx, 'emp_dur_in_years'] = 51\n",
    "xtest.loc[te_idx,'emp_dur_in_years'] = 51"
   ]
  },
  {
   "cell_type": "code",
   "execution_count": 44,
   "metadata": {},
   "outputs": [
    {
     "name": "stderr",
     "output_type": "stream",
     "text": [
      "100%|████████████████████████████████████████████████████████████████████████████████████| 8/8 [00:00<00:00, 10.17it/s]\n"
     ]
    }
   ],
   "source": [
    "# label encoding\n",
    "# Label encode cat var\n",
    "cat_cols = ['Batch Enrolled','Sub Grade','Loan Title', 'Employment Duration',\n",
    "            'Initial List Status','Verification Status','Application Type','emp_dur_in_years']\n",
    "\n",
    "for col in tqdm(cat_cols):\n",
    "    le = LabelEncoder()\n",
    "    xtrain[col] = le.fit_transform(xtrain[col])\n",
    "    xtest[col] = le.transform(xtest[col])"
   ]
  },
  {
   "cell_type": "code",
   "execution_count": 45,
   "metadata": {},
   "outputs": [
    {
     "name": "stderr",
     "output_type": "stream",
     "text": [
      "5it [00:00,  6.01it/s]\n"
     ]
    }
   ],
   "source": [
    "# target encoding\n",
    "cols_for_target_encoding = ['Batch Enrolled', 'Sub Grade', 'Loan Title','emp_dur_in_years']\n",
    "xtrain, xtest = target_mean_encoding(xtrain, xtest, target, cols_for_target_encoding)"
   ]
  },
  {
   "cell_type": "code",
   "execution_count": 46,
   "metadata": {},
   "outputs": [
    {
     "name": "stdout",
     "output_type": "stream",
     "text": [
      "14 columns droped\n"
     ]
    }
   ],
   "source": [
    "# drop unused columns\n",
    "cols_to_drop = ['Grade','Payment Plan','Delinquency - two years','Inquires - six months',\n",
    "                'Collection 12 months Medical','Application Type','Accounts Delinquent',\n",
    "                'Term','Home Ownership','Employment Duration','emp_dur_in_years',\n",
    "               'Batch Enrolled', 'Sub Grade', 'Loan Title']\n",
    "        \n",
    "xtrain = xtrain.drop(cols_to_drop, axis = 1)\n",
    "xtest = xtest.drop(cols_to_drop, axis = 1)\n",
    "print(f\"{len(cols_to_drop)} columns droped\")"
   ]
  },
  {
   "cell_type": "code",
   "execution_count": 47,
   "metadata": {},
   "outputs": [],
   "source": [
    "# define model\n",
    "def run_model(train, target, val, test, trees, depth, seed):\n",
    "    param = {'n_estimators' : trees, \"max_depth\" : depth, \n",
    "             \"random_state\" : seed, \"n_jobs\" : -1}\n",
    "    \n",
    "    rf = RandomForestClassifier(**param)\n",
    "    rf.fit(train, target)\n",
    "    \n",
    "    v_pred = rf.predict_proba(val)[:,1]\n",
    "    t_pred = rf.predict_proba(test)[:,1]\n",
    "    \n",
    "    return v_pred, t_pred"
   ]
  },
  {
   "cell_type": "code",
   "execution_count": 48,
   "metadata": {},
   "outputs": [
    {
     "name": "stdout",
     "output_type": "stream",
     "text": [
      "Fold : 1/5, Validation Log Loss : 0.30795511275957793\n",
      "Fold : 2/5, Validation Log Loss : 0.3078670162612225\n",
      "Fold : 3/5, Validation Log Loss : 0.30799979405731487\n",
      "Fold : 4/5, Validation Log Loss : 0.3077773922358681\n",
      "Fold : 5/5, Validation Log Loss : 0.3077855558585032\n",
      "................... \n",
      "\n",
      "Average log loss on val data : 0.30787697423449734, Std dev : 8.895323842429187e-05\n",
      "Done...................\n"
     ]
    }
   ],
   "source": [
    "# Train model\n",
    "FOLDS = 5\n",
    "bags = 3\n",
    "loss = []\n",
    "test_pred = 0\n",
    "\n",
    "skf = StratifiedKFold(n_splits = FOLDS, shuffle = True, random_state = 42)\n",
    "for fold, (t_,v_) in enumerate(skf.split(xtrain, target), 1):\n",
    "    train_x, val_x = xtrain.iloc[t_,:], xtrain.iloc[v_,:]\n",
    "    train_y, val_y = target[t_], target[v_]\n",
    "    bag_val = 0\n",
    "    bag_test = 0\n",
    "    for (trees,depth,seed) in [[456, 5, 42], [500, 6, 21], [600, 7, 84]]:\n",
    "        v_pred, t_pred = run_model(train_x, train_y, val_x, xtest, trees, depth, seed)\n",
    "        bag_val += v_pred\n",
    "        bag_test += t_pred\n",
    "    bag_val = bag_val/bags\n",
    "    bag_test = bag_test/bags\n",
    "    val_log_loss = log_loss(val_y, bag_val)\n",
    "    loss.append(val_log_loss)\n",
    "    test_pred += bag_test\n",
    "    print(f\"Fold : {fold}/{FOLDS}, Validation Log Loss : {val_log_loss}\")\n",
    "print('...................','\\n')\n",
    "test_pred = test_pred/FOLDS\n",
    "print(f\"Average log loss on val data : {np.mean(loss)}, Std dev : {np.std(loss)}\")\n",
    "print('Done...................')"
   ]
  },
  {
   "cell_type": "code",
   "execution_count": 49,
   "metadata": {},
   "outputs": [
    {
     "data": {
      "text/html": [
       "<div>\n",
       "<style scoped>\n",
       "    .dataframe tbody tr th:only-of-type {\n",
       "        vertical-align: middle;\n",
       "    }\n",
       "\n",
       "    .dataframe tbody tr th {\n",
       "        vertical-align: top;\n",
       "    }\n",
       "\n",
       "    .dataframe thead th {\n",
       "        text-align: right;\n",
       "    }\n",
       "</style>\n",
       "<table border=\"1\" class=\"dataframe\">\n",
       "  <thead>\n",
       "    <tr style=\"text-align: right;\">\n",
       "      <th></th>\n",
       "      <th>Loan Status</th>\n",
       "    </tr>\n",
       "  </thead>\n",
       "  <tbody>\n",
       "    <tr>\n",
       "      <th>0</th>\n",
       "      <td>0.092169</td>\n",
       "    </tr>\n",
       "    <tr>\n",
       "      <th>1</th>\n",
       "      <td>0.083151</td>\n",
       "    </tr>\n",
       "    <tr>\n",
       "      <th>2</th>\n",
       "      <td>0.088253</td>\n",
       "    </tr>\n",
       "    <tr>\n",
       "      <th>3</th>\n",
       "      <td>0.087059</td>\n",
       "    </tr>\n",
       "    <tr>\n",
       "      <th>4</th>\n",
       "      <td>0.093259</td>\n",
       "    </tr>\n",
       "  </tbody>\n",
       "</table>\n",
       "</div>"
      ],
      "text/plain": [
       "   Loan Status\n",
       "0     0.092169\n",
       "1     0.083151\n",
       "2     0.088253\n",
       "3     0.087059\n",
       "4     0.093259"
      ]
     },
     "execution_count": 49,
     "metadata": {},
     "output_type": "execute_result"
    }
   ],
   "source": [
    "# make submission\n",
    "sub = pd.read_csv('submission.csv')\n",
    "sub['Loan Status'] = test_pred\n",
    "sub.to_csv('bag_forest_13_dec.csv', index = False)\n",
    "sub.head()"
   ]
  }
 ],
 "metadata": {
  "kernelspec": {
   "display_name": "Python 3",
   "language": "python",
   "name": "python3"
  },
  "language_info": {
   "codemirror_mode": {
    "name": "ipython",
    "version": 3
   },
   "file_extension": ".py",
   "mimetype": "text/x-python",
   "name": "python",
   "nbconvert_exporter": "python",
   "pygments_lexer": "ipython3",
   "version": "3.8.3"
  }
 },
 "nbformat": 4,
 "nbformat_minor": 4
}
